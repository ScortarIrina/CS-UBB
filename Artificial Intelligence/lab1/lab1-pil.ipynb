{
 "cells": [
  {
   "cell_type": "code",
   "execution_count": 5,
   "id": "9599b1d3",
   "metadata": {},
   "outputs": [
    {
     "name": "stdout",
     "output_type": "stream",
     "text": [
      "RGB\n",
      "(6000, 4000)\n"
     ]
    }
   ],
   "source": [
    "# A. Display an image with pillow (the image must be in the same folder for these examples to run, \n",
    "# and we considered the name of the image file poza.JPG):\n",
    "\n",
    "# load and show an image with Pillow\n",
    "from PIL import Image\n",
    "# load the image\n",
    "image = Image.open('poza.JPG')\n",
    "# summarize some details about the image print(image.format)\n",
    "print(image.mode)\n",
    "print(image.size)\n",
    "# show the image\n",
    "image.show()"
   ]
  },
  {
   "cell_type": "code",
   "execution_count": 6,
   "id": "0bbc8124",
   "metadata": {},
   "outputs": [
    {
     "name": "stdout",
     "output_type": "stream",
     "text": [
      "(4000, 6000, 3)\n"
     ]
    }
   ],
   "source": [
    "# B. Convert the image to a numpy array:\n",
    "\n",
    "# load and display an image with Matplotlib\n",
    "from matplotlib import image\n",
    "from matplotlib import pyplot\n",
    "# load image as pixel array\n",
    "data = image.imread('poza.JPG')\n",
    "# summarize shape of the pixel array print(data.dtype)\n",
    "print(data.shape)\n",
    "# display the array of pixels as an image pyplot.imshow(data)\n",
    "pyplot.show()"
   ]
  },
  {
   "cell_type": "code",
   "execution_count": 7,
   "id": "65c43830",
   "metadata": {},
   "outputs": [],
   "source": [
    "# C. Resize an image to a specific dimension:\n",
    "\n",
    "# create a thumbnail of an image\n",
    "from PIL import Image\n",
    "# load the image\n",
    "image = Image.open('poza.JPG')\n",
    "# report the size of the image print(image.size)\n",
    "# create a thumbnail and preserve aspect ratio image.thumbnail((100,100))\n",
    "# report the size of the thumbnail print(image.size)"
   ]
  },
  {
   "cell_type": "code",
   "execution_count": null,
   "id": "8f540351",
   "metadata": {},
   "outputs": [],
   "source": []
  }
 ],
 "metadata": {
  "kernelspec": {
   "display_name": "Python 3 (ipykernel)",
   "language": "python",
   "name": "python3"
  },
  "language_info": {
   "codemirror_mode": {
    "name": "ipython",
    "version": 3
   },
   "file_extension": ".py",
   "mimetype": "text/x-python",
   "name": "python",
   "nbconvert_exporter": "python",
   "pygments_lexer": "ipython3",
   "version": "3.9.16"
  }
 },
 "nbformat": 4,
 "nbformat_minor": 5
}
