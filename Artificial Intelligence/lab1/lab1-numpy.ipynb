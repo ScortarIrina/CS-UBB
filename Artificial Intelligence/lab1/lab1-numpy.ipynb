{
 "cells": [
  {
   "cell_type": "code",
   "execution_count": 1,
   "id": "2dcab3c1",
   "metadata": {},
   "outputs": [],
   "source": [
    "import numpy as np"
   ]
  },
  {
   "cell_type": "code",
   "execution_count": 2,
   "id": "74210394",
   "metadata": {},
   "outputs": [
    {
     "data": {
      "text/plain": [
       "4"
      ]
     },
     "execution_count": 2,
     "metadata": {},
     "output_type": "execute_result"
    }
   ],
   "source": [
    "my_array = np.array([1, 2, 3, 4])     # works as it wouldwith standard list\n",
    "len(my_array)"
   ]
  },
  {
   "cell_type": "code",
   "execution_count": 3,
   "id": "b2317531",
   "metadata": {},
   "outputs": [
    {
     "data": {
      "text/plain": [
       "(4,)"
      ]
     },
     "execution_count": 3,
     "metadata": {},
     "output_type": "execute_result"
    }
   ],
   "source": [
    "# The shape array of an array is very useful (we’ll see more of it later when we talk about \n",
    "# 2D arrays – matrices – and higher-dimensional arrays).\n",
    "\n",
    "my_array.shape"
   ]
  },
  {
   "cell_type": "code",
   "execution_count": 4,
   "id": "e6de43f4",
   "metadata": {},
   "outputs": [
    {
     "data": {
      "text/plain": [
       "dtype('int64')"
      ]
     },
     "execution_count": 4,
     "metadata": {},
     "output_type": "execute_result"
    }
   ],
   "source": [
    "# Numpy arrays are typed. This means that by default, all the elements will be assumed to \n",
    "# be of the same type (e.g., integer, float, String).\n",
    "\n",
    "my_array.dtype"
   ]
  },
  {
   "cell_type": "code",
   "execution_count": 6,
   "id": "665f1a08",
   "metadata": {},
   "outputs": [
    {
     "name": "stdout",
     "output_type": "stream",
     "text": [
      "4\n",
      "[3 4]\n",
      "1\n",
      "2\n",
      "3\n",
      "4\n"
     ]
    }
   ],
   "source": [
    "# Numpy arrays have similar functionality as lists! Below, we compute the length, slice the array,\n",
    "# and iterate through it (one could identically perform the same with a list).\n",
    "\n",
    "print(len(my_array))\n",
    "print(my_array[2:4])\n",
    "\n",
    "for element in my_array:\n",
    "    print(element)"
   ]
  },
  {
   "cell_type": "code",
   "execution_count": 7,
   "id": "291952a3",
   "metadata": {},
   "outputs": [
    {
     "name": "stdout",
     "output_type": "stream",
     "text": [
      "2.5\n",
      "2.5\n"
     ]
    }
   ],
   "source": [
    "# There are two ways to manipulate numpy arrays:\n",
    "#    1. by using the numpy module's methods (e.g., np.mean())\n",
    "#    2. by applying the function np.mean() with the numpy array as an argument.\n",
    "\n",
    "print(my_array.mean())\n",
    "print(np.mean(my_array))"
   ]
  },
  {
   "cell_type": "code",
   "execution_count": 8,
   "id": "63543190",
   "metadata": {},
   "outputs": [
    {
     "data": {
      "text/plain": [
       "array([1., 1., 1., 1., 1., 1., 1., 1., 1., 1.])"
      ]
     },
     "execution_count": 8,
     "metadata": {},
     "output_type": "execute_result"
    }
   ],
   "source": [
    "# There are many other efficient ways to construct numpy arrays. Here are some commonly used\n",
    "# numpy array constructors. Read more details in the numpy documentation.\n",
    "\n",
    "np.ones(10)    # generates 10 floating point ones"
   ]
  },
  {
   "cell_type": "code",
   "execution_count": 9,
   "id": "eea69d90",
   "metadata": {},
   "outputs": [
    {
     "data": {
      "text/plain": [
       "8"
      ]
     },
     "execution_count": 9,
     "metadata": {},
     "output_type": "execute_result"
    }
   ],
   "source": [
    "# Numpy gains a lot of efficiency from being typed. That is, all elements in the array have the same type,\n",
    "# such as integer or floating point. The default type, as it can be seen above, is a float.\n",
    "# (Each float uses either 32 or 64 bits of memory, depending on if the code is running a 32-bit or 64-bit \n",
    "# machine, respectively).\n",
    "\n",
    "np.dtype(float).itemsize    # in bytes (remember, 1 byte = 8 bits)"
   ]
  },
  {
   "cell_type": "code",
   "execution_count": 10,
   "id": "e6fa4f2b",
   "metadata": {},
   "outputs": [
    {
     "data": {
      "text/plain": [
       "array([1, 1, 1, 1, 1, 1, 1, 1, 1, 1])"
      ]
     },
     "execution_count": 10,
     "metadata": {},
     "output_type": "execute_result"
    }
   ],
   "source": [
    "np.ones(10, dtype='int')    # generates 10 integer ones"
   ]
  },
  {
   "cell_type": "code",
   "execution_count": 11,
   "id": "6983a526",
   "metadata": {},
   "outputs": [
    {
     "data": {
      "text/plain": [
       "array([0., 0., 0., 0., 0., 0., 0., 0., 0., 0.])"
      ]
     },
     "execution_count": 11,
     "metadata": {},
     "output_type": "execute_result"
    }
   ],
   "source": [
    "np.zeros(10)"
   ]
  },
  {
   "cell_type": "code",
   "execution_count": 13,
   "id": "e374b23b",
   "metadata": {},
   "outputs": [
    {
     "data": {
      "text/plain": [
       "array([0.68546353, 0.46697714, 0.69739225, 0.9707207 , 0.20422881,\n",
       "       0.94750071, 0.53023885, 0.97525027, 0.00936551, 0.60081829])"
      ]
     },
     "execution_count": 13,
     "metadata": {},
     "output_type": "execute_result"
    }
   ],
   "source": [
    "# Often, you will want random numbers. Use the random constructor!\n",
    "\n",
    "np.random.random(10)    # uniform from [0,1]"
   ]
  },
  {
   "cell_type": "code",
   "execution_count": 17,
   "id": "367a8110",
   "metadata": {},
   "outputs": [
    {
     "name": "stdout",
     "output_type": "stream",
     "text": [
      "The sample mean and standard deviation are 0.490421 and 0.290187, respectively. \n"
     ]
    }
   ],
   "source": [
    "# You can generate random numbers from a normal distributin with mean 0 and variance 1:\n",
    "\n",
    "normal_array = np.random.rand(1000)\n",
    "print(\"The sample mean and standard deviation are %f and %f, respectively. \" %(np.mean(normal_array), np.std(normal_array)))"
   ]
  },
  {
   "cell_type": "code",
   "execution_count": 18,
   "id": "2cf06778",
   "metadata": {},
   "outputs": [
    {
     "data": {
      "text/plain": [
       "1000"
      ]
     },
     "execution_count": 18,
     "metadata": {},
     "output_type": "execute_result"
    }
   ],
   "source": [
    "len(normal_array)"
   ]
  },
  {
   "cell_type": "code",
   "execution_count": 20,
   "id": "e4b85c72",
   "metadata": {},
   "outputs": [
    {
     "data": {
      "text/plain": [
       "array([0. , 0.1, 0.2, 0.3, 0.4, 0.5, 0.6, 0.7, 0.8, 0.9, 1. ])"
      ]
     },
     "execution_count": 20,
     "metadata": {},
     "output_type": "execute_result"
    }
   ],
   "source": [
    "# You can sample with and without replacement from an array. Let's first construct a list with evenly-spaced values:\n",
    "\n",
    "grid = np.arange(0., 1.01, 0.1)\n",
    "grid"
   ]
  },
  {
   "cell_type": "code",
   "execution_count": 22,
   "id": "fb92bb75",
   "metadata": {},
   "outputs": [
    {
     "data": {
      "text/plain": [
       "array([0. , 0.9, 0.2, 0.4, 0.1])"
      ]
     },
     "execution_count": 22,
     "metadata": {},
     "output_type": "execute_result"
    }
   ],
   "source": [
    "# Without replacement\n",
    "\n",
    "np.random.choice(grid, 5, replace=False)"
   ]
  },
  {
   "cell_type": "code",
   "execution_count": 23,
   "id": "e93dacc8",
   "metadata": {},
   "outputs": [
    {
     "ename": "ValueError",
     "evalue": "Cannot take a larger sample than population when 'replace=False'",
     "output_type": "error",
     "traceback": [
      "\u001b[0;31m---------------------------------------------------------------------------\u001b[0m",
      "\u001b[0;31mValueError\u001b[0m                                Traceback (most recent call last)",
      "Input \u001b[0;32mIn [23]\u001b[0m, in \u001b[0;36m<cell line: 1>\u001b[0;34m()\u001b[0m\n\u001b[0;32m----> 1\u001b[0m \u001b[43mnp\u001b[49m\u001b[38;5;241;43m.\u001b[39;49m\u001b[43mrandom\u001b[49m\u001b[38;5;241;43m.\u001b[39;49m\u001b[43mchoice\u001b[49m\u001b[43m(\u001b[49m\u001b[43mgrid\u001b[49m\u001b[43m,\u001b[49m\u001b[43m \u001b[49m\u001b[38;5;241;43m20\u001b[39;49m\u001b[43m,\u001b[49m\u001b[43m \u001b[49m\u001b[43mreplace\u001b[49m\u001b[38;5;241;43m=\u001b[39;49m\u001b[38;5;28;43;01mFalse\u001b[39;49;00m\u001b[43m)\u001b[49m\n",
      "File \u001b[0;32mmtrand.pyx:965\u001b[0m, in \u001b[0;36mnumpy.random.mtrand.RandomState.choice\u001b[0;34m()\u001b[0m\n",
      "\u001b[0;31mValueError\u001b[0m: Cannot take a larger sample than population when 'replace=False'"
     ]
    }
   ],
   "source": [
    "np.random.choice(grid, 20, replace=False)"
   ]
  },
  {
   "cell_type": "code",
   "execution_count": 24,
   "id": "02a33a70",
   "metadata": {},
   "outputs": [
    {
     "data": {
      "text/plain": [
       "array([0.5, 0.6, 0.9, 0.5, 0.9, 0.2, 0.1, 0.7, 0.9, 1. , 0.2, 0.3, 0.2,\n",
       "       0.4, 0.2, 0.9, 0.5, 0.5, 0.9, 0.1])"
      ]
     },
     "execution_count": 24,
     "metadata": {},
     "output_type": "execute_result"
    }
   ],
   "source": [
    "# With replacement\n",
    "\n",
    "np.random.choice(grid, 20, replace=True)"
   ]
  },
  {
   "cell_type": "code",
   "execution_count": 25,
   "id": "e168f77a",
   "metadata": {},
   "outputs": [
    {
     "data": {
      "text/plain": [
       "(array([ 9.91991992,  9.93993994,  9.95995996,  9.97997998, 10.        ]),\n",
       " array([-10.        ,  -9.97997998,  -9.95995996,  -9.93993994,\n",
       "         -9.91991992]))"
      ]
     },
     "execution_count": 25,
     "metadata": {},
     "output_type": "execute_result"
    }
   ],
   "source": [
    "# Let's create 1,000 points between -10 and 10\n",
    "\n",
    "x = np.linspace(-10, 10, 1000)       # linspace() returns evenly-spaced numbers over a specified interval\n",
    "x[-5:], x[:5]"
   ]
  },
  {
   "cell_type": "code",
   "execution_count": null,
   "id": "b5744e68",
   "metadata": {},
   "outputs": [],
   "source": []
  }
 ],
 "metadata": {
  "kernelspec": {
   "display_name": "Python 3 (ipykernel)",
   "language": "python",
   "name": "python3"
  },
  "language_info": {
   "codemirror_mode": {
    "name": "ipython",
    "version": 3
   },
   "file_extension": ".py",
   "mimetype": "text/x-python",
   "name": "python",
   "nbconvert_exporter": "python",
   "pygments_lexer": "ipython3",
   "version": "3.9.13"
  }
 },
 "nbformat": 4,
 "nbformat_minor": 5
}
